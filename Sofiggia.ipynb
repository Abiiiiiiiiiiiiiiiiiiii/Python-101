{
 "cells": [
  {
   "cell_type": "code",
   "execution_count": null,
   "metadata": {},
   "outputs": [],
   "source": [
    "import random as rd\n",
    "import simpleaudio as sa\n",
    "Notes = {\"Do.wav\" : \"C\",\"Re.wav\" : \"D\", \"Mi.wav\" : \"E\"}\n",
    "\n",
    "def RandomNote():\n",
    "    import random as rd\n",
    "    import simpleaudio as sa\n",
    "\n",
    "    \n",
    "\n",
    "    Input = input(\"1> start\\n\")\n",
    "\n",
    "    if(Input == \"s\"):\n",
    "        RNstart()\n",
    "    \n",
    "    \n",
    "\n",
    "def RNstart():\n",
    "        \n",
    "        #print(\"RNstart2\")\n",
    "        \n",
    "        note = rd.choice(list(Notes.keys()))\n",
    "        \n",
    "        noteplay = sa.WaveObject.from_wave_file(f'/Users/abi/Desktop/Sofiggia/{note}')\n",
    "        \n",
    "        play = input(\"play\")\n",
    "        \n",
    "        if(play == \"p\"):\n",
    "\n",
    "            NP = noteplay.play()\n",
    "            \n",
    "            print(NP.is_playing())\n",
    "\n",
    "            if  NP.is_playing() == True :\n",
    "                \n",
    "                noteplay.play()\n",
    "\n",
    "                NP.wait_done()\n",
    "                    \n",
    "                NP.stop()\n",
    "\n",
    "            answerinput = input(\"what note?\")\n",
    "\n",
    "            if answerinput == Notes[note] :\n",
    "                 print(\"yes,motherfucker\")\n",
    "\n",
    "            else : \n",
    "                print (\"wrong,you little shit\")         \n",
    "\n",
    "            RNstart()    \n",
    "                \n",
    " "
   ]
  },
  {
   "cell_type": "code",
   "execution_count": null,
   "metadata": {},
   "outputs": [],
   "source": [
    "RandomNote()"
   ]
  }
 ],
 "metadata": {
  "language_info": {
   "name": "python"
  }
 },
 "nbformat": 4,
 "nbformat_minor": 2
}
