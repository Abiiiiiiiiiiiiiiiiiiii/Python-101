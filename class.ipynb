{
 "cells": [
  {
   "cell_type": "markdown",
   "metadata": {},
   "source": [
    "# Class"
   ]
  },
  {
   "cell_type": "code",
   "execution_count": 51,
   "metadata": {},
   "outputs": [],
   "source": [
    "class Human():\n",
    "    def __init__(self, name, age, hair_color, language):\n",
    "        self.name = name\n",
    "        self.age = age\n",
    "        self.language = language\n",
    "        self.hair_color = hair_color\n",
    "\n",
    "    def speak(self):\n",
    "        print(f\"ma name is {self.name} I can speak {self.language}\")\n",
    "\n",
    "    def run(self):\n",
    "        print(\"I'm {} and I'm running\".format(self.name))\n",
    "\n",
    "    def introduce(self):\n",
    "        print(\"my hair is {},I'm {}\".format(self.hair_color, self.age))"
   ]
  },
  {
   "cell_type": "code",
   "execution_count": 52,
   "metadata": {},
   "outputs": [],
   "source": [
    "person_1 = Human(\"aaron\",66,\"yellow\",\"english\")\n",
    "person_2 = Human(\"abi\",18,\"grey\",\"japanese\")\n",
    "person_3 = Human(\"bbi\",99,\"green\",\"spanish\")"
   ]
  },
  {
   "cell_type": "code",
   "execution_count": 53,
   "metadata": {},
   "outputs": [
    {
     "name": "stdout",
     "output_type": "stream",
     "text": [
      "ma name is aaron I can speak english\n",
      "ma name is abi I can speak japanese\n",
      "ma name is bbi I can speak spanish\n"
     ]
    }
   ],
   "source": [
    "person_1.speak()\n",
    "person_2.speak()\n",
    "person_3.speak()"
   ]
  },
  {
   "cell_type": "markdown",
   "metadata": {},
   "source": [
    "1. Create a Class named Dog()\n",
    "2. Dog() has 3 attributes\n",
    "3. Dog() has 2 functions"
   ]
  },
  {
   "cell_type": "markdown",
   "metadata": {},
   "source": []
  }
 ],
 "metadata": {
  "kernelspec": {
   "display_name": "base",
   "language": "python",
   "name": "python3"
  },
  "language_info": {
   "codemirror_mode": {
    "name": "ipython",
    "version": 3
   },
   "file_extension": ".py",
   "mimetype": "text/x-python",
   "name": "python",
   "nbconvert_exporter": "python",
   "pygments_lexer": "ipython3",
   "version": "3.11.4"
  }
 },
 "nbformat": 4,
 "nbformat_minor": 2
}
